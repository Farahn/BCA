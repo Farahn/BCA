{
 "cells": [
  {
   "cell_type": "code",
   "execution_count": 1,
   "metadata": {},
   "outputs": [],
   "source": [
    "from __future__ import print_function, division\n",
    "\n",
    "import os\n",
    "import os.path\n",
    "import pandas as pd\n",
    "from io import StringIO\n",
    "import io\n",
    "import unicodedata\n",
    "import re\n",
    "\n",
    "import tensorflow as tf\n",
    "import numpy as np\n",
    "np.set_printoptions(threshold = 10000)\n",
    "import collections\n",
    "import random\n",
    "\n",
    "#from tensorflow.contrib.rnn import LSTMCell as Cell\n",
    "from gru import GRUCell as Cell #custom implementation with normalization\n",
    "from tensorflow.python.ops.rnn import dynamic_rnn as rnn\n",
    "from tensorflow.python.ops.rnn import bidirectional_dynamic_rnn as bi_rnn\n",
    "\n",
    "from attention import attention\n",
    "from ordloss import *\n",
    "from utils import *\n",
    "from dataUtilstest import *\n",
    "\n",
    "\n",
    "from numpy import array\n",
    "from numpy import argmax\n",
    "from sklearn.preprocessing import LabelEncoder\n",
    "from sklearn.preprocessing import OneHotEncoder\n",
    "from scipy import stats\n",
    "from sklearn.metrics import accuracy_score\n",
    " "
   ]
  },
  {
   "cell_type": "code",
   "execution_count": 2,
   "metadata": {},
   "outputs": [],
   "source": [
    "# these values need to be updated based on teh prameters for the trained model\n",
    "#read data; SEQUENCE_LENGTH is maximum length of sentence in words, SEQUENCE_LENGTH_D is maximum length of document in sentences. \n",
    "\n",
    "SEQUENCE_LENGTH = 65\n",
    "SEQUENCE_LENGTH_D = 40\n",
    "\n",
    "#system parameters-need to be the same as han_train\n",
    "\n",
    "HIDDEN_SIZE = 50\n",
    "ATTENTION_SIZE = 10\n",
    "HIDDEN_SIZE_D = 15\n",
    "ATTENTION_SIZE_D = 5\n",
    "KEEP_PROB = 0.7\n",
    "BATCH_SIZE = 10\n",
    "\n",
    "#use ordinal regression; logistic regression if False\n",
    "ordinal = False\n",
    "\n",
    "MODEL_PATH = \"model/model%d\" %(HIDDEN_SIZE + HIDDEN_SIZE_D)"
   ]
  },
  {
   "cell_type": "code",
   "execution_count": 3,
   "metadata": {},
   "outputs": [],
   "source": [
    "import csv \n",
    "dictionary = {}\n",
    "for key,val in csv.reader(open('data/dict_han%d.csv'%(HIDDEN_SIZE + HIDDEN_SIZE_D))):\n",
    "    dictionary[key] = val"
   ]
  },
  {
   "cell_type": "code",
   "execution_count": 4,
   "metadata": {},
   "outputs": [],
   "source": [
    "NUM_WORDS = len(dictionary)\n",
    "vocabulary_size = NUM_WORDS\n",
    "EMBEDDING_DIM = 200"
   ]
  },
  {
   "cell_type": "code",
   "execution_count": 5,
   "metadata": {},
   "outputs": [],
   "source": [
    "# the test data set; the fformat is csv, with the text column labelled 'text'\n",
    "df_test = pd.read_csv('data/test.csv')"
   ]
  },
  {
   "cell_type": "code",
   "execution_count": 12,
   "metadata": {},
   "outputs": [
    {
     "data": {
      "text/html": [
       "<div>\n",
       "<style scoped>\n",
       "    .dataframe tbody tr th:only-of-type {\n",
       "        vertical-align: middle;\n",
       "    }\n",
       "\n",
       "    .dataframe tbody tr th {\n",
       "        vertical-align: top;\n",
       "    }\n",
       "\n",
       "    .dataframe thead th {\n",
       "        text-align: right;\n",
       "    }\n",
       "</style>\n",
       "<table border=\"1\" class=\"dataframe\">\n",
       "  <thead>\n",
       "    <tr style=\"text-align: right;\">\n",
       "      <th></th>\n",
       "      <th>text</th>\n",
       "      <th>stars</th>\n",
       "    </tr>\n",
       "  </thead>\n",
       "  <tbody>\n",
       "    <tr>\n",
       "      <th>0</th>\n",
       "      <td>this review is solely for the vanilla cone . h...</td>\n",
       "      <td>5</td>\n",
       "    </tr>\n",
       "    <tr>\n",
       "      <th>1</th>\n",
       "      <td>good arcadia/biltmore area place that 's in a ...</td>\n",
       "      <td>4</td>\n",
       "    </tr>\n",
       "    <tr>\n",
       "      <th>2</th>\n",
       "      <td>i've flown in and out of sky harbor many times...</td>\n",
       "      <td>3</td>\n",
       "    </tr>\n",
       "    <tr>\n",
       "      <th>3</th>\n",
       "      <td>i love this place ! not only does it make me f...</td>\n",
       "      <td>4</td>\n",
       "    </tr>\n",
       "    <tr>\n",
       "      <th>4</th>\n",
       "      <td>opening night of star wars ! the theater handl...</td>\n",
       "      <td>4</td>\n",
       "    </tr>\n",
       "  </tbody>\n",
       "</table>\n",
       "</div>"
      ],
      "text/plain": [
       "                                                text  stars\n",
       "0  this review is solely for the vanilla cone . h...      5\n",
       "1  good arcadia/biltmore area place that 's in a ...      4\n",
       "2  i've flown in and out of sky harbor many times...      3\n",
       "3  i love this place ! not only does it make me f...      4\n",
       "4  opening night of star wars ! the theater handl...      4"
      ]
     },
     "execution_count": 12,
     "metadata": {},
     "output_type": "execute_result"
    }
   ],
   "source": [
    "# perform basic text clean-up, lower casing, and convert British spelling to US \n",
    "text = []\n",
    "for i in range(len(df_test)):\n",
    "    t = df_test.iloc[i]['text']\n",
    "    text.append(clean_(t))\n",
    "df_test['text'] = text\n",
    "df_test[['text','stars']].head()"
   ]
  },
  {
   "cell_type": "code",
   "execution_count": 7,
   "metadata": {},
   "outputs": [
    {
     "name": "stdout",
     "output_type": "stream",
     "text": [
      "len of test set:  7608\n"
     ]
    }
   ],
   "source": [
    "X_test_ = read_test_set(df_test, dictionary, SEQUENCE_LEN_D = SEQUENCE_LENGTH_D, SEQUENCE_LEN = SEQUENCE_LENGTH)"
   ]
  },
  {
   "cell_type": "code",
   "execution_count": 8,
   "metadata": {},
   "outputs": [],
   "source": [
    "tf.reset_default_graph()"
   ]
  },
  {
   "cell_type": "code",
   "execution_count": 9,
   "metadata": {},
   "outputs": [
    {
     "name": "stdout",
     "output_type": "stream",
     "text": [
      "WARNING:tensorflow:From <ipython-input-9-595bb494ce6d>:51: softmax_cross_entropy_with_logits (from tensorflow.python.ops.nn_ops) is deprecated and will be removed in a future version.\n",
      "Instructions for updating:\n",
      "\n",
      "Future major versions of TensorFlow will allow gradients to flow\n",
      "into the labels input on backprop by default.\n",
      "\n",
      "See tf.nn.softmax_cross_entropy_with_logits_v2.\n",
      "\n",
      "INFO:tensorflow:Restoring parameters from model/model65\n"
     ]
    }
   ],
   "source": [
    "#Different placeholders\n",
    "num_classes = 5\n",
    "batch_ph = tf.placeholder(tf.int32, [None, SEQUENCE_LENGTH])\n",
    "ind_list_ph = tf.placeholder(tf.int32, [None])\n",
    "target_ph = tf.placeholder(tf.float32, [None,num_classes])\n",
    "seq_len_ph = tf.placeholder(tf.int32, [None])\n",
    "seq_len_ph_d = tf.placeholder(tf.int32, [None])\n",
    "keep_prob_ph = tf.placeholder(tf.float32)\n",
    "\n",
    "\n",
    "# Embedding layer\n",
    "embeddings_var = tf.Variable(tf.random_uniform([vocabulary_size, EMBEDDING_DIM], -1.0, 1.0), trainable=True)\n",
    "batch_embedded = tf.nn.embedding_lookup(embeddings_var, batch_ph)\n",
    "\n",
    "# (Bi-)RNN layer(-s)\n",
    "with tf.variable_scope('sentence'):\n",
    "    rnn_outputs, _ = bi_rnn(Cell(HIDDEN_SIZE), Cell(HIDDEN_SIZE), inputs=batch_embedded, sequence_length=seq_len_ph, dtype=tf.float32)\n",
    "    attention_output, alphas = attention(rnn_outputs, ATTENTION_SIZE, seq_len_ph, return_alphas=True)\n",
    "    attention_output = tf.reshape(attention_output,[BATCH_SIZE, SEQUENCE_LENGTH_D, HIDDEN_SIZE*2])\n",
    "    \n",
    "with tf.variable_scope('document'):\n",
    "    rnn_outputs_d, _ = bi_rnn(Cell(HIDDEN_SIZE_D), Cell(HIDDEN_SIZE_D), inputs=attention_output, sequence_length=seq_len_ph_d, dtype=tf.float32)\n",
    "    attention_output_d, alphas_d = attention(rnn_outputs_d, ATTENTION_SIZE_D, seq_len_ph_d, return_alphas=True)\n",
    "\n",
    "# Dropout\n",
    "drop = tf.nn.dropout(attention_output_d, keep_prob_ph)\n",
    "\n",
    "if ordinal:\n",
    "    # For ordinal regression, same weights for each class\n",
    "    W = tf.Variable(tf.truncated_normal([drop.get_shape()[1].value], stddev=0.1))\n",
    "    W_ = tf.transpose(tf.reshape(tf.tile(W,[num_classes - 1]),[num_classes - 1, drop.get_shape()[1].value]))\n",
    "    b = tf.Variable(tf.cast(tf.range(num_classes - 1), dtype = tf.float32))\n",
    "    y_hat_ = tf.nn.xw_plus_b(drop, tf.negative(W_), b)\n",
    "\n",
    "    # Predicted labels and logits\n",
    "    y_preds, logits = preds(y_hat_,BATCH_SIZE)\n",
    "    y_true = tf.argmax(target_ph, axis = 1)\n",
    "\n",
    "    # Ordinal loss\n",
    "    loss = ordloss_m(y_hat_, target_ph, BATCH_SIZE)\n",
    "    c = stats.spearmanr\n",
    "    str_score = \"Spearman rank:\"\n",
    "\n",
    "else:\n",
    "    W = tf.Variable(tf.truncated_normal([drop.get_shape()[1].value, num_classes], stddev=0.1))  \n",
    "    b = tf.Variable(tf.constant(0., shape=[num_classes]))\n",
    "    y_hat_ = tf.nn.xw_plus_b(drop, W, b)\n",
    "    #y_hat_ = tf.squeeze(y_hat)\n",
    "    # Cross-entropy loss and optimizer initialization\n",
    "    y_preds = tf.argmax(y_hat_, axis = 1)\n",
    "    loss = tf.reduce_mean(tf.nn.softmax_cross_entropy_with_logits(logits=y_hat_, labels=target_ph))\n",
    "    c = accuracy_score\n",
    "    str_score = \"Accucary:\"\n",
    "\n",
    "optimizer = tf.train.AdamOptimizer(learning_rate=1e-3).minimize(loss)\n",
    "# Batch generators\n",
    "\n",
    "test_batch_generator_ = test_batch_generator(X_test_, BATCH_SIZE, seq_len = SEQUENCE_LENGTH_D)\n",
    "\n",
    "saver = tf.train.Saver()\n",
    "\n",
    "# Calculate alpha coefficients for the first test example\n",
    "\n",
    "with tf.Session() as sess:\n",
    "    saver.restore(sess, MODEL_PATH)\n",
    "    \n",
    "    while True:\n",
    "\n",
    "        #testing\n",
    "        num_batches = X_test_.shape[0] // (BATCH_SIZE*SEQUENCE_LENGTH_D)\n",
    "        a = []\n",
    "        a_d = []\n",
    "        true = []\n",
    "        preds_ = []\n",
    "        for bx in range(num_batches):\n",
    "            x_batch = next(test_batch_generator_)\n",
    "            seq_len = np.array([list(x).index(0) + 1 for x in x_batch])  # actual lengths of sequences\n",
    "            seq_len_d = []               \n",
    "            l = SEQUENCE_LENGTH_D\n",
    "            for i in range(0,len(x_batch),l):\n",
    "                for j in range(i,i+l):\n",
    "                    if list(x_batch[j]).index(0) == 0:\n",
    "                        seq_len_d.append(j%l)\n",
    "                        break\n",
    "                    elif j == i+l-1:\n",
    "                        seq_len_d.append(l)\n",
    "\n",
    "            seq_len_d = np.array(seq_len_d)\n",
    "\n",
    "            pred, alph, alph_d = sess.run([y_preds, alphas, alphas_d],\n",
    "                         feed_dict={batch_ph: x_batch,\n",
    "                                    seq_len_ph: seq_len,\n",
    "                                    seq_len_ph_d: seq_len_d,\n",
    "                                    keep_prob_ph: 1.0})\n",
    "            a.append(alph)\n",
    "            a_d.append(alph_d)\n",
    "            \n",
    "            preds_.extend(pred)\n",
    "   \n",
    "        preds_ = np.array(preds_)\n",
    "        preds_ = preds_.flatten()\n",
    "\n",
    "            \n",
    "        break\n",
    " "
   ]
  },
  {
   "cell_type": "code",
   "execution_count": 10,
   "metadata": {},
   "outputs": [],
   "source": [
    "#display word and sentence level attention\n",
    "from IPython.core.display import display, HTML\n",
    "#Display sentence level attention \n",
    "sc = 0\n",
    "HTML_str_all_sent = []\n",
    "for i in df_test['text']:\n",
    "    i = sent_tokenize(i)\n",
    "        \n",
    "    bc = 0 \n",
    "    HTML_str = ''\n",
    "    s_len = min(len(i),SEQUENCE_LENGTH_D)\n",
    "\n",
    "    for j in i[:s_len]:\n",
    "        j = 'START ' + str(j)\n",
    "        x = j.split()\n",
    "        att = a[sc//BATCH_SIZE][((sc%BATCH_SIZE)*SEQUENCE_LENGTH_D)+bc]\n",
    "        att = att/att.max()\n",
    "        bc+=1\n",
    "    \n",
    "        att_sent = []\n",
    "        count = 0\n",
    "\n",
    "        for w in x:\n",
    "            if w == 'START':\n",
    "                continue\n",
    "            HTML_str = HTML_str + '<font style=\"background: rgba(153, 204, 255, %f)\">%s</font>' % (att[count], w+' ')\n",
    "                \n",
    "            count+=1\n",
    "            if count == SEQUENCE_LENGTH:\n",
    "                break\n",
    "    sc+=1        \n",
    "    HTML_str_all_sent.append(HTML_str)\n",
    "    HTML_str = ''\n",
    "    \n",
    "    \n",
    "#Display sentence level attention \n",
    "sc = 0\n",
    "HTML_str_all_doc = []\n",
    "for i in df_test['text'][:-10]:\n",
    "    i = sent_tokenize(i)\n",
    "        \n",
    "    HTML_str = ''\n",
    "    s_len = min(len(i),SEQUENCE_LENGTH_D)\n",
    "    i = i[:s_len]\n",
    "    att = a_d[sc//BATCH_SIZE][sc%BATCH_SIZE][:s_len]\n",
    "    att = att/att.max()\n",
    "    att_sent = []\n",
    "    count = 0\n",
    "\n",
    "    for w in i:\n",
    "        HTML_str = HTML_str + '<font style=\"background: rgba(255, 178, 102, %f)\">%s</font>' % (att[count], w+' ')\n",
    "        count+=1\n",
    "        if count == SEQUENCE_LENGTH_D:\n",
    "            break\n",
    "    sc+=1        \n",
    "    HTML_str_all_doc.append(HTML_str)\n",
    "    HTML_str = ''\n",
    "    "
   ]
  },
  {
   "cell_type": "code",
   "execution_count": 11,
   "metadata": {},
   "outputs": [
    {
     "data": {
      "text/html": [
       "<font style=\"background: rgba(153, 204, 255, 0.065442)\">this </font><font style=\"background: rgba(153, 204, 255, 0.029939)\">review </font><font style=\"background: rgba(153, 204, 255, 0.016898)\">is </font><font style=\"background: rgba(153, 204, 255, 0.028046)\">solely </font><font style=\"background: rgba(153, 204, 255, 0.015868)\">for </font><font style=\"background: rgba(153, 204, 255, 0.018311)\">the </font><font style=\"background: rgba(153, 204, 255, 0.014840)\">vanilla </font><font style=\"background: rgba(153, 204, 255, 0.769843)\">cone </font><font style=\"background: rgba(153, 204, 255, 1.000000)\">. </font><font style=\"background: rgba(153, 204, 255, 0.656767)\">happiness </font><font style=\"background: rgba(153, 204, 255, 1.000000)\">you </font><font style=\"background: rgba(153, 204, 255, 0.510147)\">can </font><font style=\"background: rgba(153, 204, 255, 0.627445)\">buy </font><font style=\"background: rgba(153, 204, 255, 0.284155)\">with </font><font style=\"background: rgba(153, 204, 255, 0.432948)\">less </font><font style=\"background: rgba(153, 204, 255, 0.286330)\">than </font><font style=\"background: rgba(153, 204, 255, 0.162817)\">3 </font><font style=\"background: rgba(153, 204, 255, 0.119176)\">quarters </font><font style=\"background: rgba(153, 204, 255, 0.023724)\">! </font><font style=\"background: rgba(153, 204, 255, 1.000000)\">never </font><font style=\"background: rgba(153, 204, 255, 0.381000)\">disappoints </font><font style=\"background: rgba(153, 204, 255, 0.296219)\">. </font><font style=\"background: rgba(153, 204, 255, 0.145532)\">and </font><font style=\"background: rgba(153, 204, 255, 0.075847)\">it </font><font style=\"background: rgba(153, 204, 255, 0.037542)\">gets </font><font style=\"background: rgba(153, 204, 255, 0.087668)\">even </font><font style=\"background: rgba(153, 204, 255, 0.061762)\">better </font><font style=\"background: rgba(153, 204, 255, 0.035185)\">when </font><font style=\"background: rgba(153, 204, 255, 0.027701)\">you </font><font style=\"background: rgba(153, 204, 255, 0.065961)\">dip </font><font style=\"background: rgba(153, 204, 255, 0.166662)\">your </font><font style=\"background: rgba(153, 204, 255, 0.313375)\">fries </font><font style=\"background: rgba(153, 204, 255, 0.830030)\">into </font><font style=\"background: rgba(153, 204, 255, 1.000000)\">it </font>"
      ],
      "text/plain": [
       "<IPython.core.display.HTML object>"
      ]
     },
     "metadata": {},
     "output_type": "display_data"
    },
    {
     "data": {
      "text/html": [
       "<font style=\"background: rgba(255, 178, 102, 0.719182)\">this review is solely for the vanilla cone . </font><font style=\"background: rgba(255, 178, 102, 1.000000)\">happiness you can buy with less than 3 quarters ! </font><font style=\"background: rgba(255, 178, 102, 0.801605)\">never disappoints . </font><font style=\"background: rgba(255, 178, 102, 0.758075)\">and it gets even better when you dip your fries into it </font>"
      ],
      "text/plain": [
       "<IPython.core.display.HTML object>"
      ]
     },
     "metadata": {},
     "output_type": "display_data"
    }
   ],
   "source": [
    "i = 0\n",
    "display(HTML(HTML_str_all_sent[i]))\n",
    "display(HTML(HTML_str_all_doc[i]))\n"
   ]
  },
  {
   "cell_type": "code",
   "execution_count": null,
   "metadata": {},
   "outputs": [],
   "source": []
  }
 ],
 "metadata": {
  "kernelspec": {
   "display_name": "Python 3",
   "language": "python",
   "name": "python3"
  },
  "language_info": {
   "codemirror_mode": {
    "name": "ipython",
    "version": 3
   },
   "file_extension": ".py",
   "mimetype": "text/x-python",
   "name": "python",
   "nbconvert_exporter": "python",
   "pygments_lexer": "ipython3",
   "version": "3.5.1"
  }
 },
 "nbformat": 4,
 "nbformat_minor": 2
}
